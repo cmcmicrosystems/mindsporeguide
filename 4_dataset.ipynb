{
 "cells": [
  {
   "cell_type": "markdown",
   "metadata": {},
   "source": [
    "# Loading and Processing Data\n",
    "\n",
    "MindSpore provides APIs for loading common datasets and datasets in standard formats. You can directly use the corresponding dataset loading class in mindspore.dataset to load data. The dataset class provides common data processing APIs for users to quickly process data.\n",
    "\n",
    "## Loading the Dataset\n",
    "\n",
    "In the following example, the CIFAR-10 dataset is loaded through the `Cifar10Dataset` API, and the first five samples are obtained using the sequential sampler."
   ]
  },
  {
   "cell_type": "code",
   "execution_count": 1,
   "metadata": {},
   "outputs": [],
   "source": [
    "import mindspore.dataset as ds\n",
    "\n",
    "DATA_DIR = \"./datasets/cifar-10-batches-bin/train\"\n",
    "sampler = ds.SequentialSampler(num_samples=5)\n",
    "dataset = ds.Cifar10Dataset(DATA_DIR, sampler=sampler)"
   ]
  },
  {
   "cell_type": "markdown",
   "metadata": {},
   "source": [
    "## Iterating Dataset\n",
    "\n",
    "You can use `create_dict_iterator` to create a data iterator to iteratively access data. The following shows the image shapes and labels."
   ]
  },
  {
   "cell_type": "code",
   "execution_count": 2,
   "metadata": {},
   "outputs": [
    {
     "name": "stdout",
     "output_type": "stream",
     "text": [
      "Image shape: (32, 32, 3) , Label: 6\n",
      "Image shape: (32, 32, 3) , Label: 9\n",
      "Image shape: (32, 32, 3) , Label: 9\n",
      "Image shape: (32, 32, 3) , Label: 4\n",
      "Image shape: (32, 32, 3) , Label: 1\n"
     ]
    }
   ],
   "source": [
    "for data in dataset.create_dict_iterator():\n",
    "    print(\"Image shape: {}\".format(data['image'].shape), \", Label: {}\".format(data['label']))"
   ]
  },
  {
   "cell_type": "markdown",
   "metadata": {},
   "source": [
    "## Customizing Datasets\n",
    "\n",
    "For datasets that cannot be directly loaded by MindSpore, you can build a custom dataset class and use the `GeneratorDataset` API to customize data loading.\n"
   ]
  },
  {
   "cell_type": "code",
   "execution_count": 3,
   "metadata": {},
   "outputs": [],
   "source": [
    "import numpy as np\n",
    "\n",
    "np.random.seed(58)\n",
    "\n",
    "class DatasetGenerator:\n",
    "    def __init__(self):\n",
    "        self.data = np.random.sample((5, 2))\n",
    "        self.label = np.random.sample((5, 1))\n",
    "\n",
    "    def __getitem__(self, index):\n",
    "        return self.data[index], self.label[index]\n",
    "\n",
    "    def __len__(self):\n",
    "        return len(self.data)"
   ]
  },
  {
   "cell_type": "markdown",
   "metadata": {},
   "source": [
    "You need to customize the following class functions:\n",
    "\n",
    "- **\\_\\_init\\_\\_**\n",
    "\n",
    "    When a dataset object is instantiated, the `__init__` function is called. You can perform operations such as data initialization.\n",
    "\n",
    "    ```python\n",
    "    def __init__(self):\n",
    "        self.data = np.random.sample((5, 2))\n",
    "        self.label = np.random.sample((5, 1))\n",
    "    ```\n",
    "\n",
    "- **\\_\\_getitem\\_\\_**\n",
    "\n",
    "    Define the `__getitem__` function of the dataset class to support random access and obtain and return data in the dataset based on the specified `index` value.\n",
    "\n",
    "    ```python\n",
    "    def __getitem__(self, index):\n",
    "        return self.data[index], self.label[index]\n",
    "    ```\n",
    "\n",
    "- **\\_\\_len\\_\\_**\n",
    "\n",
    "    Define the `__len__` function of the dataset class and return the number of samples in the dataset.\n",
    "\n",
    "    ```python\n",
    "    def __len__(self):\n",
    "        return len(self.data)\n",
    "    ```\n",
    "\n",
    "After the dataset class is defined, the `GeneratorDataset` API can be used to load and access dataset samples in the user-defined mode."
   ]
  },
  {
   "cell_type": "code",
   "execution_count": 4,
   "metadata": {},
   "outputs": [
    {
     "name": "stdout",
     "output_type": "stream",
     "text": [
      "[0.36510558 0.45120592] [0.78888122]\n",
      "[0.49606035 0.07562207] [0.38068183]\n",
      "[0.57176158 0.28963401] [0.16271622]\n",
      "[0.30880446 0.37487617] [0.54738768]\n",
      "[0.81585667 0.96883469] [0.77994068]\n"
     ]
    }
   ],
   "source": [
    "dataset_generator = DatasetGenerator()\n",
    "dataset = ds.GeneratorDataset(dataset_generator, [\"data\", \"label\"], shuffle=False)\n",
    "\n",
    "for data in dataset.create_dict_iterator():\n",
    "    print('{}'.format(data[\"data\"]), '{}'.format(data[\"label\"]))"
   ]
  },
  {
   "cell_type": "markdown",
   "metadata": {},
   "source": [
    "## Data Processing and Augmentation\n",
    "\n",
    "### Processing Data\n",
    "\n",
    "The dataset APIs provided by MindSpore support common data processing methods. You only need to call the corresponding function APIs to quickly process data.\n",
    "\n",
    "In the following example, the datasets are shuffled, and then two samples form a batch."
   ]
  },
  {
   "cell_type": "code",
   "execution_count": 5,
   "metadata": {},
   "outputs": [
    {
     "name": "stdout",
     "output_type": "stream",
     "text": [
      "data: [[0.36510558 0.45120592]\n",
      " [0.57176158 0.28963401]]\n",
      "label: [[0.78888122]\n",
      " [0.16271622]]\n",
      "data: [[0.30880446 0.37487617]\n",
      " [0.49606035 0.07562207]]\n",
      "label: [[0.54738768]\n",
      " [0.38068183]]\n",
      "data: [[0.81585667 0.96883469]]\n",
      "label: [[0.77994068]]\n"
     ]
    }
   ],
   "source": [
    "ds.config.set_seed(58)\n",
    "\n",
    "# Shuffle the data sequence.\n",
    "dataset = dataset.shuffle(buffer_size=10)\n",
    "# Perform batch operations on datasets.\n",
    "dataset = dataset.batch(batch_size=2)\n",
    "\n",
    "for data in dataset.create_dict_iterator():\n",
    "    print(\"data: {}\".format(data[\"data\"]))\n",
    "    print(\"label: {}\".format(data[\"label\"]))"
   ]
  },
  {
   "cell_type": "markdown",
   "metadata": {},
   "source": [
    "Where,\n",
    "\n",
    "`buffer_size`: size of the buffer for shuffle operations in the dataset.\n",
    "\n",
    "`batch_size`: number of data records in each group. Currently, each group contains 2 data records.\n",
    "\n",
    "### Data Augmentation\n",
    "\n",
    "If the data volume is too small or the sample scenario is simple, the model training effect is affected. You can perform the data augmentation operation to expand the sample diversity and improve the generalization capability of the model.\n",
    "\n",
    "The following example uses the operators in the `mindspore.dataset.vision.c_transforms` module to perform data argumentation on the MNIST dataset.\n",
    "\n",
    "Import the `c_transforms` module and load the MNIST dataset."
   ]
  },
  {
   "cell_type": "code",
   "execution_count": 6,
   "metadata": {},
   "outputs": [
    {
     "data": {
      "image/png": "[encoded data removed]",
      "text/plain": [
       "<Figure size 432x288 with 1 Axes>"
      ]
     },
     "metadata": {
      "needs_background": "light"
     },
     "output_type": "display_data"
    }
   ],
   "source": [
    "import matplotlib.pyplot as plt\n",
    "\n",
    "from mindspore.dataset.vision import Inter\n",
    "import mindspore.dataset.vision.c_transforms as c_vision\n",
    "\n",
    "DATA_DIR = './datasets/MNIST_Data/train'\n",
    "\n",
    "mnist_dataset = ds.MnistDataset(DATA_DIR, num_samples=6, shuffle=False)\n",
    "\n",
    "# View the original image data.\n",
    "mnist_it = mnist_dataset.create_dict_iterator()\n",
    "data = next(mnist_it)\n",
    "plt.imshow(data['image'].asnumpy().squeeze(), cmap=plt.cm.gray)\n",
    "plt.title(data['label'].asnumpy(), fontsize=20)\n",
    "plt.show()"
   ]
  },
  {
   "cell_type": "markdown",
   "metadata": {},
   "source": [
    "Define the data augmentation operator, perform the `Resize` and `RandomCrop` operations on the dataset, and insert the dataset into the data processing pipeline through `map` mapping.\n"
   ]
  },
  {
   "cell_type": "code",
   "execution_count": 7,
   "metadata": {},
   "outputs": [],
   "source": [
    "resize_op = c_vision.Resize(size=(200,200), interpolation=Inter.LINEAR)\n",
    "crop_op = c_vision.RandomCrop(150)\n",
    "transforms_list = [resize_op, crop_op]\n",
    "mnist_dataset = mnist_dataset.map(operations=transforms_list, input_columns=[\"image\"])"
   ]
  },
  {
   "cell_type": "markdown",
   "metadata": {},
   "source": [
    "View the data augmentation effect."
   ]
  },
  {
   "cell_type": "code",
   "execution_count": 8,
   "metadata": {},
   "outputs": [
    {
     "data": {
      "image/png": "[encoded data removed]",
      "text/plain": [
       "<Figure size 432x288 with 1 Axes>"
      ]
     },
     "metadata": {
      "needs_background": "light"
     },
     "output_type": "display_data"
    }
   ],
   "source": [
    "mnist_dataset = mnist_dataset.create_dict_iterator()\n",
    "data = next(mnist_dataset)\n",
    "plt.imshow(data['image'].asnumpy().squeeze(), cmap=plt.cm.gray)\n",
    "plt.title(data['label'].asnumpy(), fontsize=20)\n",
    "plt.show()"
   ]
  },
  {
   "cell_type": "markdown",
   "metadata": {},
   "source": [
    "For more information, see [Data augmentation](https://www.mindspore.cn/doc/programming_guide/en/r1.2/augmentation.html)."
   ]
  },
  {
   "cell_type": "code",
   "execution_count": null,
   "metadata": {},
   "outputs": [],
   "source": []
  },
  {
   "cell_type": "code",
   "execution_count": null,
   "metadata": {},
   "outputs": [],
   "source": [
    "import os\n",
    "pid = os.getpid()\n",
    "!kill -9 $pid"
   ]
  },
  {
   "cell_type": "code",
   "execution_count": null,
   "metadata": {},
   "outputs": [],
   "source": []
  }
 ],
 "metadata": {
  "kernelspec": {
   "display_name": "Python 3",
   "language": "python",
   "name": "python3"
  },
  "language_info": {
   "codemirror_mode": {
    "name": "ipython",
    "version": 3
   },
   "file_extension": ".py",
   "mimetype": "text/x-python",
   "name": "python",
   "nbconvert_exporter": "python",
   "pygments_lexer": "ipython3",
   "version": "3.7.5"
  }
 },
 "nbformat": 4,
 "nbformat_minor": 4
}
